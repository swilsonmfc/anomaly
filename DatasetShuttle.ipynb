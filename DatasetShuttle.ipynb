{
  "nbformat": 4,
  "nbformat_minor": 0,
  "metadata": {
    "colab": {
      "name": "Dataset-Shuttle.ipynb",
      "provenance": [],
      "collapsed_sections": [],
      "authorship_tag": "ABX9TyMAc9cZkvWEc9LLyWnX0QXg",
      "include_colab_link": true
    },
    "kernelspec": {
      "name": "python3",
      "display_name": "Python 3"
    }
  },
  "cells": [
    {
      "cell_type": "markdown",
      "metadata": {
        "id": "view-in-github",
        "colab_type": "text"
      },
      "source": [
        "<a href=\"https://colab.research.google.com/github/swilsonmfc/anomaly/blob/master/DatasetShuttle.ipynb\" target=\"_parent\"><img src=\"https://colab.research.google.com/assets/colab-badge.svg\" alt=\"Open In Colab\"/></a>"
      ]
    },
    {
      "cell_type": "markdown",
      "metadata": {
        "id": "aCogyDjk4f0m",
        "colab_type": "text"
      },
      "source": [
        "# Shuttle\n",
        "![alt text](https://images-na.ssl-images-amazon.com/images/I/41aN9yQDVbL._AC_SX425_.jpg)"
      ]
    },
    {
      "cell_type": "markdown",
      "metadata": {
        "id": "dcrXkned5eUY",
        "colab_type": "text"
      },
      "source": [
        "# Setup"
      ]
    },
    {
      "cell_type": "code",
      "metadata": {
        "id": "H0FfXOLG5hTI",
        "colab_type": "code",
        "colab": {}
      },
      "source": [
        "import pandas as pd\n",
        "import numpy as np"
      ],
      "execution_count": null,
      "outputs": []
    },
    {
      "cell_type": "markdown",
      "metadata": {
        "id": "L1mZJusZ6CTL",
        "colab_type": "text"
      },
      "source": [
        "# Notes"
      ]
    },
    {
      "cell_type": "code",
      "metadata": {
        "id": "jEGMUkuZ6E7R",
        "colab_type": "code",
        "colab": {
          "base_uri": "https://localhost:8080/",
          "height": 204
        },
        "outputId": "321c8e0d-1b8a-4d86-d842-2e0507978efa"
      },
      "source": [
        "!wget https://archive.ics.uci.edu/ml/machine-learning-databases/statlog/shuttle/shuttle.doc"
      ],
      "execution_count": null,
      "outputs": [
        {
          "output_type": "stream",
          "text": [
            "--2020-06-30 20:26:24--  https://archive.ics.uci.edu/ml/machine-learning-databases/statlog/shuttle/shuttle.doc\n",
            "Resolving archive.ics.uci.edu (archive.ics.uci.edu)... 128.195.10.252\n",
            "Connecting to archive.ics.uci.edu (archive.ics.uci.edu)|128.195.10.252|:443... connected.\n",
            "HTTP request sent, awaiting response... 200 OK\n",
            "Length: 1273 (1.2K) [application/x-httpd-php]\n",
            "Saving to: ‘shuttle.doc’\n",
            "\n",
            "\rshuttle.doc           0%[                    ]       0  --.-KB/s               \rshuttle.doc         100%[===================>]   1.24K  --.-KB/s    in 0s      \n",
            "\n",
            "2020-06-30 20:26:25 (48.1 MB/s) - ‘shuttle.doc’ saved [1273/1273]\n",
            "\n"
          ],
          "name": "stdout"
        }
      ]
    },
    {
      "cell_type": "code",
      "metadata": {
        "id": "4D2KOMU36NI0",
        "colab_type": "code",
        "colab": {
          "base_uri": "https://localhost:8080/",
          "height": 714
        },
        "outputId": "de930166-ceac-4ac9-a5f6-0a93f623e476"
      },
      "source": [
        "!cat shuttle.doc"
      ],
      "execution_count": null,
      "outputs": [
        {
          "output_type": "stream",
          "text": [
            "Description of SHUTTLE Dataset (STATLOG VERSION)\n",
            "\n",
            "\n",
            "THIS DATASET SHOULD BE TACKLED BY TRAIN/TEST.\n",
            "\n",
            "\n",
            "NUMBER OF EXAMPLES\n",
            "\ttraining set     43500\n",
            "\ttest set         14500\n",
            "\n",
            "NUMBER OF ATTRIBUTES\n",
            "\t9\n",
            "\n",
            "The shuttle dataset contains 9 attributes all of which are numerical.\n",
            "The first one being time.  The last column is the class which has been \n",
            "coded as follows :\n",
            "        1       Rad Flow\n",
            "        2       Fpv Close\n",
            "        3       Fpv Open\n",
            "        4       High\n",
            "        5       Bypass\n",
            "        6       Bpv Close\n",
            "        7       Bpv Open\n",
            "        \n",
            "Approximately 80% of the data belongs to class 1. Therefore the default \n",
            "accuracy is about 80%. The aim here is to obtain an accuracy of \n",
            "99 - 99.9%.        \n",
            "\n",
            "\n",
            "Validation set:\n",
            "The examples in the original dataset were in time order, and this time order\n",
            "could presumably be relevant in classification.   However, this was not deemed\n",
            "relevant for StatLog purposes, so the order of the examples\n",
            " in the original dataset was randomised, and \n",
            "a portion of the original dataset removed for validation purposes.\n",
            "\n",
            "Acknowledgment:\n",
            "Thanks to Jason Catlett of Basser Department of Computer Science, \n",
            "University of Sydney, N.S.W., Australia for providing the shuttle dataset.  \n",
            "Thanks also to NASA for allowing us to use the shuttle datasets.\n",
            "        \n"
          ],
          "name": "stdout"
        }
      ]
    },
    {
      "cell_type": "markdown",
      "metadata": {
        "id": "MpHGGJcU4kM0",
        "colab_type": "text"
      },
      "source": [
        "# Data"
      ]
    },
    {
      "cell_type": "code",
      "metadata": {
        "id": "jFTECnCq4--K",
        "colab_type": "code",
        "colab": {
          "base_uri": "https://localhost:8080/",
          "height": 204
        },
        "outputId": "914ce236-c467-43cb-a9f6-9e08e41827b2"
      },
      "source": [
        "!wget https://archive.ics.uci.edu/ml/machine-learning-databases/statlog/shuttle/shuttle.trn.Z"
      ],
      "execution_count": null,
      "outputs": [
        {
          "output_type": "stream",
          "text": [
            "--2020-06-30 20:21:24--  https://archive.ics.uci.edu/ml/machine-learning-databases/statlog/shuttle/shuttle.trn.Z\n",
            "Resolving archive.ics.uci.edu (archive.ics.uci.edu)... 128.195.10.252\n",
            "Connecting to archive.ics.uci.edu (archive.ics.uci.edu)|128.195.10.252|:443... connected.\n",
            "HTTP request sent, awaiting response... 200 OK\n",
            "Length: 319869 (312K) [application/x-httpd-php]\n",
            "Saving to: ‘shuttle.trn.Z’\n",
            "\n",
            "shuttle.trn.Z       100%[===================>] 312.37K  1.19MB/s    in 0.3s    \n",
            "\n",
            "2020-06-30 20:21:24 (1.19 MB/s) - ‘shuttle.trn.Z’ saved [319869/319869]\n",
            "\n"
          ],
          "name": "stdout"
        }
      ]
    },
    {
      "cell_type": "code",
      "metadata": {
        "id": "8ofBjPna5Evh",
        "colab_type": "code",
        "colab": {
          "base_uri": "https://localhost:8080/",
          "height": 204
        },
        "outputId": "5c871c7d-64ad-4a32-8e98-0472840221b9"
      },
      "source": [
        "!wget https://archive.ics.uci.edu/ml/machine-learning-databases/statlog/shuttle/shuttle.tst"
      ],
      "execution_count": null,
      "outputs": [
        {
          "output_type": "stream",
          "text": [
            "--2020-06-30 20:21:38--  https://archive.ics.uci.edu/ml/machine-learning-databases/statlog/shuttle/shuttle.tst\n",
            "Resolving archive.ics.uci.edu (archive.ics.uci.edu)... 128.195.10.252\n",
            "Connecting to archive.ics.uci.edu (archive.ics.uci.edu)|128.195.10.252|:443... connected.\n",
            "HTTP request sent, awaiting response... 200 OK\n",
            "Length: 384257 (375K) [application/x-httpd-php]\n",
            "Saving to: ‘shuttle.tst’\n",
            "\n",
            "shuttle.tst         100%[===================>] 375.25K  1.14MB/s    in 0.3s    \n",
            "\n",
            "2020-06-30 20:21:38 (1.14 MB/s) - ‘shuttle.tst’ saved [384257/384257]\n",
            "\n"
          ],
          "name": "stdout"
        }
      ]
    },
    {
      "cell_type": "code",
      "metadata": {
        "id": "HpUeHAJ45ahK",
        "colab_type": "code",
        "colab": {
          "base_uri": "https://localhost:8080/",
          "height": 34
        },
        "outputId": "d3ebd24f-40cc-4f4d-9ca6-402c6e4f3035"
      },
      "source": [
        "!ls"
      ],
      "execution_count": null,
      "outputs": [
        {
          "output_type": "stream",
          "text": [
            "sample_data  shuttle.trn  shuttle.tst\n"
          ],
          "name": "stdout"
        }
      ]
    },
    {
      "cell_type": "code",
      "metadata": {
        "id": "3DSUBOQ55H6k",
        "colab_type": "code",
        "colab": {}
      },
      "source": [
        "!uncompress *.Z"
      ],
      "execution_count": null,
      "outputs": []
    },
    {
      "cell_type": "markdown",
      "metadata": {
        "id": "iOkCrNw74-LY",
        "colab_type": "text"
      },
      "source": [
        "# Prep"
      ]
    },
    {
      "cell_type": "code",
      "metadata": {
        "id": "zjTpwD215_9a",
        "colab_type": "code",
        "colab": {}
      },
      "source": [
        "header = ['TIME', 'X1', 'X2', 'X3', 'X4', 'X5', 'X6', 'X7', 'X8', 'CLASS']"
      ],
      "execution_count": null,
      "outputs": []
    },
    {
      "cell_type": "code",
      "metadata": {
        "id": "CpdMJklY5xXc",
        "colab_type": "code",
        "colab": {}
      },
      "source": [
        "train_df = pd.read_csv('shuttle.trn', delimiter=' ', names=header)\n",
        "test_df  = pd.read_csv('shuttle.tst', delimiter=' ', names=header)"
      ],
      "execution_count": null,
      "outputs": []
    },
    {
      "cell_type": "code",
      "metadata": {
        "id": "Yf1nMbqz7goF",
        "colab_type": "code",
        "colab": {}
      },
      "source": [
        "train_df['OUTLIER'] = np.where(train_df.CLASS > 1, 1, 0)\n",
        "test_df ['OUTLIER'] = np.where(test_df.CLASS > 1, 1, 0)"
      ],
      "execution_count": null,
      "outputs": []
    },
    {
      "cell_type": "markdown",
      "metadata": {
        "id": "1fTQpjM-6gxq",
        "colab_type": "text"
      },
      "source": [
        "# Save"
      ]
    },
    {
      "cell_type": "code",
      "metadata": {
        "id": "fe32Mgse65j-",
        "colab_type": "code",
        "colab": {}
      },
      "source": [
        "train_df.to_csv('data_anomaly_shuttle_train.csv', index=False)\n",
        "test_df.to_csv('data_anomaly_shuttle_test.csv',  index=False)"
      ],
      "execution_count": null,
      "outputs": []
    },
    {
      "cell_type": "code",
      "metadata": {
        "id": "fVYbQynr7EhR",
        "colab_type": "code",
        "colab": {
          "base_uri": "https://localhost:8080/",
          "height": 51
        },
        "outputId": "d028a8e1-1d7f-41ee-e590-cdce31f91f7e"
      },
      "source": [
        "!ls"
      ],
      "execution_count": null,
      "outputs": [
        {
          "output_type": "stream",
          "text": [
            "data_anomaly_shuttle_test.csv\tsample_data  shuttle.trn\n",
            "data_anomaly_shuttle_train.csv\tshuttle.doc  shuttle.tst\n"
          ],
          "name": "stdout"
        }
      ]
    }
  ]
}