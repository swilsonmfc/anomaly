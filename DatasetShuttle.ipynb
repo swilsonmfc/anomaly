{
 "cells": [
  {
   "cell_type": "markdown",
   "metadata": {
    "colab_type": "text",
    "id": "view-in-github"
   },
   "source": [
    "<a href=\"https://colab.research.google.com/github/swilsonmfc/anomaly/blob/master/DatasetShuttle.ipynb\" target=\"_parent\"><img src=\"https://colab.research.google.com/assets/colab-badge.svg\" alt=\"Open In Colab\"/></a>"
   ]
  },
  {
   "cell_type": "markdown",
   "metadata": {
    "colab_type": "text",
    "id": "aCogyDjk4f0m"
   },
   "source": [
    "# Shuttle\n",
    "![alt text](https://images-na.ssl-images-amazon.com/images/I/41aN9yQDVbL._AC_SX425_.jpg)"
   ]
  },
  {
   "cell_type": "markdown",
   "metadata": {
    "colab_type": "text",
    "id": "dcrXkned5eUY"
   },
   "source": [
    "# Setup"
   ]
  },
  {
   "cell_type": "code",
   "execution_count": 10,
   "metadata": {
    "colab": {},
    "colab_type": "code",
    "id": "H0FfXOLG5hTI"
   },
   "outputs": [],
   "source": [
    "import pandas as pd\n",
    "import numpy as np"
   ]
  },
  {
   "cell_type": "markdown",
   "metadata": {
    "colab_type": "text",
    "id": "L1mZJusZ6CTL"
   },
   "source": [
    "# Notes"
   ]
  },
  {
   "cell_type": "code",
   "execution_count": 1,
   "metadata": {
    "colab": {
     "base_uri": "https://localhost:8080/",
     "height": 204
    },
    "colab_type": "code",
    "id": "jEGMUkuZ6E7R",
    "outputId": "4fecad27-39d8-48b6-9ce8-6acc70c9e2b1"
   },
   "outputs": [
    {
     "name": "stdout",
     "output_type": "stream",
     "text": [
      "Description of SHUTTLE Dataset (STATLOG VERSION)\r\n",
      "\r\n",
      "\r\n",
      "THIS DATASET SHOULD BE TACKLED BY TRAIN/TEST.\r\n",
      "\r\n",
      "\r\n",
      "NUMBER OF EXAMPLES\r\n",
      "\ttraining set     43500\r\n",
      "\ttest set         14500\r\n",
      "\r\n",
      "NUMBER OF ATTRIBUTES\r\n",
      "\t9\r\n",
      "\r\n",
      "The shuttle dataset contains 9 attributes all of which are numerical.\r\n",
      "The first one being time.  The last column is the class which has been \r\n",
      "coded as follows :\r\n",
      "        1       Rad Flow\r\n",
      "        2       Fpv Close\r\n",
      "        3       Fpv Open\r\n",
      "        4       High\r\n",
      "        5       Bypass\r\n",
      "        6       Bpv Close\r\n",
      "        7       Bpv Open\r\n",
      "        \r\n",
      "Approximately 80% of the data belongs to class 1. Therefore the default \r\n",
      "accuracy is about 80%. The aim here is to obtain an accuracy of \r\n",
      "99 - 99.9%.        \r\n",
      "\r\n",
      "\r\n",
      "Validation set:\r\n",
      "The examples in the original dataset were in time order, and this time order\r\n",
      "could presumably be relevant in classification.   However, this was not deemed\r\n",
      "relevant for StatLog purposes, so the order of the examples\r\n",
      " in the original dataset was randomised, and \r\n",
      "a portion of the original dataset removed for validation purposes.\r\n",
      "\r\n",
      "Acknowledgment:\r\n",
      "Thanks to Jason Catlett of Basser Department of Computer Science, \r\n",
      "University of Sydney, N.S.W., Australia for providing the shuttle dataset.  \r\n",
      "Thanks also to NASA for allowing us to use the shuttle datasets.\r\n",
      "        \r\n"
     ]
    }
   ],
   "source": [
    "!wget https://archive.ics.uci.edu/ml/machine-learning-databases/statlog/shuttle/shuttle.doc"
   ]
  },
  {
   "cell_type": "markdown",
   "metadata": {
    "colab_type": "text",
    "id": "MpHGGJcU4kM0"
   },
   "source": [
    "# Data"
   ]
  },
  {
   "cell_type": "code",
   "execution_count": 19,
   "metadata": {
    "colab": {
     "base_uri": "https://localhost:8080/",
     "height": 204
    },
    "colab_type": "code",
    "id": "jFTECnCq4--K",
    "outputId": "56e1a8c7-0196-403a-d88f-02e0a327d6cb"
   },
   "outputs": [
    {
     "name": "stdout",
     "output_type": "stream",
     "text": [
      "  % Total    % Received % Xferd  Average Speed   Time    Time     Time  Current\n",
      "                                 Dload  Upload   Total   Spent    Left  Speed\n",
      "100  312k  100  312k    0     0   619k      0 --:--:-- --:--:-- --:--:--  621k\n"
     ]
    }
   ],
   "source": [
    "!wget https://archive.ics.uci.edu/ml/machine-learning-databases/statlog/shuttle/shuttle.trn.Z "
   ]
  },
  {
   "cell_type": "code",
   "execution_count": 20,
   "metadata": {
    "colab": {
     "base_uri": "https://localhost:8080/",
     "height": 204
    },
    "colab_type": "code",
    "id": "8ofBjPna5Evh",
    "outputId": "78e5bd61-e49a-48e7-837b-4875686e1b93"
   },
   "outputs": [
    {
     "name": "stdout",
     "output_type": "stream",
     "text": [
      "  % Total    % Received % Xferd  Average Speed   Time    Time     Time  Current\n",
      "                                 Dload  Upload   Total   Spent    Left  Speed\n",
      "100  375k  100  375k    0     0   707k      0 --:--:-- --:--:-- --:--:--  708k\n"
     ]
    }
   ],
   "source": [
    "!wget https://archive.ics.uci.edu/ml/machine-learning-databases/statlog/shuttle/shuttle.tst "
   ]
  },
  {
   "cell_type": "code",
   "execution_count": 21,
   "metadata": {
    "colab": {
     "base_uri": "https://localhost:8080/",
     "height": 34
    },
    "colab_type": "code",
    "id": "HpUeHAJ45ahK",
    "outputId": "091792b3-98b3-4e35-b247-72d12830b976"
   },
   "outputs": [
    {
     "name": "stdout",
     "output_type": "stream",
     "text": [
      "DatasetEcoli.ipynb   DatasetTaxi.ipynb    shuttle.trn.Z\r\n",
      "DatasetKDD99.ipynb   README.md            shuttle.tst\r\n",
      "DatasetShuttle.ipynb \u001b[34mdata\u001b[m\u001b[m\r\n",
      "DatasetSpeech.ipynb  kdd.csv\r\n"
     ]
    }
   ],
   "source": [
    "!ls"
   ]
  },
  {
   "cell_type": "code",
   "execution_count": 22,
   "metadata": {
    "colab": {},
    "colab_type": "code",
    "id": "3DSUBOQ55H6k"
   },
   "outputs": [],
   "source": [
    "!uncompress *.Z"
   ]
  },
  {
   "cell_type": "markdown",
   "metadata": {
    "colab_type": "text",
    "id": "iOkCrNw74-LY"
   },
   "source": [
    "# Prep"
   ]
  },
  {
   "cell_type": "code",
   "execution_count": 23,
   "metadata": {
    "colab": {},
    "colab_type": "code",
    "id": "zjTpwD215_9a"
   },
   "outputs": [],
   "source": [
    "header = ['TIME', 'X1', 'X2', 'X3', 'X4', 'X5', 'X6', 'X7', 'X8', 'CLASS']"
   ]
  },
  {
   "cell_type": "code",
   "execution_count": 24,
   "metadata": {
    "colab": {},
    "colab_type": "code",
    "id": "CpdMJklY5xXc"
   },
   "outputs": [],
   "source": [
    "train_df = pd.read_csv('shuttle.trn', delimiter=' ', names=header)\n",
    "test_df  = pd.read_csv('shuttle.tst', delimiter=' ', names=header)"
   ]
  },
  {
   "cell_type": "code",
   "execution_count": 25,
   "metadata": {
    "colab": {},
    "colab_type": "code",
    "id": "Yf1nMbqz7goF"
   },
   "outputs": [],
   "source": [
    "train_df['OUTLIER'] = np.where(train_df.CLASS > 1, 1, 0)\n",
    "test_df ['OUTLIER'] = np.where(test_df.CLASS > 1, 1, 0)"
   ]
  },
  {
   "cell_type": "markdown",
   "metadata": {
    "colab_type": "text",
    "id": "1fTQpjM-6gxq"
   },
   "source": [
    "# Save"
   ]
  },
  {
   "cell_type": "code",
   "execution_count": 26,
   "metadata": {
    "colab": {},
    "colab_type": "code",
    "id": "VmD1Is_PsgZt"
   },
   "outputs": [],
   "source": [
    "!mkdir -p data"
   ]
  },
  {
   "cell_type": "code",
   "execution_count": 27,
   "metadata": {
    "colab": {},
    "colab_type": "code",
    "id": "fe32Mgse65j-"
   },
   "outputs": [],
   "source": [
    "train_df.to_csv('data/data_anomaly_shuttle_train.csv', index=False)\n",
    "test_df.to_csv('data/data_anomaly_shuttle_test.csv',  index=False)"
   ]
  },
  {
   "cell_type": "code",
   "execution_count": 28,
   "metadata": {
    "colab": {},
    "colab_type": "code",
    "id": "ttHpmYZRsqgm"
   },
   "outputs": [],
   "source": [
    "combined_df = pd.concat([train_df, test_df])\n",
    "combined_df.head()\n",
    "combined_df.to_csv('data/data_anomaly_shuttle.csv', index=False)"
   ]
  },
  {
   "cell_type": "code",
   "execution_count": 29,
   "metadata": {
    "colab": {
     "base_uri": "https://localhost:8080/",
     "height": 34
    },
    "colab_type": "code",
    "id": "fVYbQynr7EhR",
    "outputId": "410dd30b-b5d5-48a0-dbd0-91e52980bad4"
   },
   "outputs": [
    {
     "name": "stdout",
     "output_type": "stream",
     "text": [
      "DatasetEcoli.ipynb   DatasetTaxi.ipynb    shuttle.trn\r\n",
      "DatasetKDD99.ipynb   README.md            shuttle.tst\r\n",
      "DatasetShuttle.ipynb \u001b[34mdata\u001b[m\u001b[m\r\n",
      "DatasetSpeech.ipynb  kdd.csv\r\n"
     ]
    }
   ],
   "source": [
    "!ls"
   ]
  },
  {
   "cell_type": "code",
   "execution_count": null,
   "metadata": {},
   "outputs": [],
   "source": []
  }
 ],
 "metadata": {
  "colab": {
   "authorship_tag": "ABX9TyP/9OAiP37cK3LdtvumHmrU",
   "collapsed_sections": [],
   "include_colab_link": true,
   "name": "Dataset-Shuttle.ipynb",
   "provenance": []
  },
  "kernelspec": {
   "display_name": "Python 3",
   "language": "python",
   "name": "python3"
  },
  "language_info": {
   "codemirror_mode": {
    "name": "ipython",
    "version": 3
   },
   "file_extension": ".py",
   "mimetype": "text/x-python",
   "name": "python",
   "nbconvert_exporter": "python",
   "pygments_lexer": "ipython3",
   "version": "3.7.6"
  }
 },
 "nbformat": 4,
 "nbformat_minor": 1
}
