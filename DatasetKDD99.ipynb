{
 "cells": [
  {
   "cell_type": "markdown",
   "metadata": {
    "colab_type": "text",
    "id": "view-in-github"
   },
   "source": [
    "<a href=\"https://colab.research.google.com/github/swilsonmfc/anomaly/blob/master/DatasetKDD99.ipynb\" target=\"_parent\"><img src=\"https://colab.research.google.com/assets/colab-badge.svg\" alt=\"Open In Colab\"/></a>"
   ]
  },
  {
   "cell_type": "markdown",
   "metadata": {
    "colab_type": "text",
    "id": "sVEq0gBhRzoX"
   },
   "source": [
    "# KDD-99 Unsupervised\n",
    "![alt text](https://mma.prnewswire.com/media/890716/KDD_Logo.jpg?p=twitter)"
   ]
  },
  {
   "cell_type": "markdown",
   "metadata": {
    "colab_type": "text",
    "id": "3K4ETjK3SIHO"
   },
   "source": [
    "# Setup"
   ]
  },
  {
   "cell_type": "code",
   "execution_count": 1,
   "metadata": {
    "colab": {},
    "colab_type": "code",
    "id": "5KQcWvroSLtU"
   },
   "outputs": [],
   "source": [
    "import pandas as pd\n",
    "import numpy as np"
   ]
  },
  {
   "cell_type": "markdown",
   "metadata": {
    "colab_type": "text",
    "id": "jGEnMl13SPkp"
   },
   "source": [
    "# Data"
   ]
  },
  {
   "cell_type": "code",
   "execution_count": 6,
   "metadata": {
    "colab": {
     "base_uri": "https://localhost:8080/",
     "height": 204
    },
    "colab_type": "code",
    "id": "ctuf6PkJSOFz",
    "outputId": "f007ff6c-c597-4d37-dbf8-bf85904ad38d"
   },
   "outputs": [],
   "source": [
    "!wget -O kdd.csv https://dataverse.harvard.edu/api/access/datafile/2711916?format=original&gbrecs=true\n",
    "    "
   ]
  },
  {
   "cell_type": "markdown",
   "metadata": {
    "colab_type": "text",
    "id": "kGdYiSAVXDFz"
   },
   "source": [
    "# Notes\n",
    "\n",
    "Benchmarking Datasets for Unsupervised Anomaly Detection\n",
    "========================================================\n",
    "\n",
    "These datasets can be used for benchmarking unsupervised anomaly detection \n",
    "algorithms (for example LOF).\n",
    "\n",
    "The datasets have been obtained from multiple sources and are mainly based on \n",
    "datasets originally used for supervised machine learning. By publishing these \n",
    "modifications, a comparison of different algorithms is now possible for \n",
    "unsupervised anomaly detection.\n",
    "\n",
    "The original datasets have some citation policy, which must be followed when \n",
    "used for research. Please refer to the list below.\n",
    "\n",
    "Some remarks:\n",
    "* the CSV file uses \",\" as separator and \".\" as a decimal point\n",
    "* The label of each record is in the last column, indicating a normal record \n",
    "  \"n\" or an outlier \"o\".\n",
    "* The data might be sorted (so consider shuffling if required)\n",
    "* The data columns are not normalized (most algorithm require to normalize \n",
    "  data first)\n",
    "* The data contains only real numbers\n",
    "* In some cases, the scientific representation is used (e.g. 7.929E-4,0). When \n",
    "  parsing, please take care of correct handling. (Java/Python automatically \n",
    "  takes care about it)\n",
    "* The label is only for accuracy computation, you may not use it for parameter \n",
    "  estimation (such as selecting a \"good\" k for LOF)\n",
    "\n",
    "Citation Policies of Datasets\n",
    "=============================\n",
    "\n",
    "aloi\n",
    "----\n",
    "J. M. Geusebroek, G. J. Burghouts, and A. W. M. Smeulders, The Amsterdam \n",
    "library of object images, Int. J. Comput. Vision, 61(1), 103-112, January, \n",
    "2005. \n",
    "\n",
    "E. Schubert, R. Wojdanowski, A. Zimek, H.-P. Kriegel, On Evaluation of Outlier \n",
    "Rankings and Outlier Scores, In Proceedings of the 12th SIAM International \n",
    "Conference on Data Mining (SDM), Anaheim, CA, 2012. \n",
    "\n",
    "annthyroid\n",
    "----------\n",
    "Lichman, M. (2013). UCI Machine Learning Repository \n",
    "[http://archive.ics.uci.edu/ml]. Irvine, CA: University of California, School of \n",
    "Information and Computer Science. \n",
    "\n",
    "Schiffmann W, Joost M, Werner R. Synthesis and Performance Analysis of\n",
    "Multilayer Neural Network Architectures. University of Koblenz; 1992.\n",
    "\n",
    "breast-cancer\n",
    "-------------\n",
    "Lichman, M. (2013). UCI Machine Learning Repository \n",
    "[http://archive.ics.uci.edu/ml]. Irvine, CA: University of California, School \n",
    "of Information and Computer Science. \n",
    "\n",
    "Mangasarian OL, Street WN, Wolberg WH. Breast Cancer Diagnosis and\n",
    "Prognosis via Linear Programming. SIAM News. 1990;23(5):1–18.\n",
    "\n",
    "kdd99\n",
    "-----\n",
    "Lichman, M. (2013). UCI Machine Learning Repository \n",
    "[http://archive.ics.uci.edu/ml]. Irvine, CA: University of California, School \n",
    "of Information and Computer Science. \n",
    "\n",
    "letter\n",
    "------\n",
    "Lichman, M. (2013). UCI Machine Learning Repository \n",
    "[http://archive.ics.uci.edu/ml]. Irvine, CA: University of California, School \n",
    "of Information and Computer Science.\n",
    "\n",
    "Micenkova B, McWilliams B, Assent I. Learning Outlier Ensembles: The Best of \n",
    "Both Worlds - Supervised and Unsupervised. In: Proceedings of the ACM ODD2. \n",
    "2014. p. 51–54.\n",
    "\n",
    "P. W. Frey and D. J. Slate. \"Letter Recognition Using Holland-style Adaptive \n",
    "Classifiers\". (Machine Learning Vol 6 #2 March 91) \n",
    "\n",
    "pen-*\n",
    "----------\n",
    "Lichman, M. (2013). UCI Machine Learning Repository \n",
    "[http://archive.ics.uci.edu/ml]. Irvine, CA: University of California, School \n",
    "of Information and Computer Science.\n",
    "\n",
    "F. Alimoglu (1996) Combining Multiple Classifiers for Pen-Based Handwritten \n",
    "Digit Recognition, MSc Thesis, Institute of Graduate Studies in Science and \n",
    "Engineering, Bogazici University.\n",
    "\n",
    "satellite\n",
    "---------\n",
    "Lichman, M. (2013). UCI Machine Learning Repository \n",
    "[http://archive.ics.uci.edu/ml]. Irvine, CA: University of California, School \n",
    "of Information and Computer Science.\n",
    "\n",
    "shuttle\n",
    "-------\n",
    "Lichman, M. (2013). UCI Machine Learning Repository \n",
    "[http://archive.ics.uci.edu/ml]. Irvine, CA: University of California, School \n",
    "of Information and Computer Science.\n",
    "\n",
    "Thanks to NASA for allowing us to use the shuttle datasets. \n",
    "\n",
    "speech\n",
    "------\n",
    "Niko Brümmer, Sandro Cumani, Ondrej Glembek, Martin Karafiat, Pavel Matejka, Jan \n",
    "Pesan, Oldrich Plchot, Mehdi Soufifar, Edward de Villiers and Jan Cernocky.\n",
    "Description and analysis of the Brno276 system for LRE2011. In Proc. of Odyssey\n",
    "2012: The Speaker and Lang. Rec. Workshop, 2012.\n",
    "\n",
    "Micenkova B, McWilliams B, Assent I. Learning Outlier Ensembles: The Best of \n",
    "Both Worlds - Supervised and Unsupervised. In: Proceedings of the ACM ODD2. \n",
    "2014. p. 51–54.\n",
    "\n"
   ]
  },
  {
   "cell_type": "code",
   "execution_count": 8,
   "metadata": {
    "colab": {
     "base_uri": "https://localhost:8080/",
     "height": 34
    },
    "colab_type": "code",
    "id": "sm_mzoOTSSxn",
    "outputId": "466e30f1-61e9-419f-a484-fb5d5a0e9a36"
   },
   "outputs": [
    {
     "name": "stdout",
     "output_type": "stream",
     "text": [
      "DatasetEcoli.ipynb   DatasetSpeech.ipynb  \u001b[34mdata\u001b[m\u001b[m\r\n",
      "DatasetKDD99.ipynb   DatasetTaxi.ipynb    kdd.csv\r\n",
      "DatasetShuttle.ipynb README.md\r\n"
     ]
    }
   ],
   "source": [
    "!ls"
   ]
  },
  {
   "cell_type": "code",
   "execution_count": 9,
   "metadata": {
    "colab": {},
    "colab_type": "code",
    "id": "GUjGUDW5VX_D"
   },
   "outputs": [],
   "source": [
    "header = [f'X{col}' for col in range(29)]\n",
    "header.append('OUTLIER')\n",
    "df = pd.read_csv('kdd.csv', names=header)"
   ]
  },
  {
   "cell_type": "code",
   "execution_count": 10,
   "metadata": {
    "colab": {
     "base_uri": "https://localhost:8080/",
     "height": 224
    },
    "colab_type": "code",
    "id": "xxX0CNFtV0xZ",
    "outputId": "115189ce-a11c-466b-9aaa-4dd99d4fa559"
   },
   "outputs": [
    {
     "data": {
      "text/html": [
       "<div>\n",
       "<style scoped>\n",
       "    .dataframe tbody tr th:only-of-type {\n",
       "        vertical-align: middle;\n",
       "    }\n",
       "\n",
       "    .dataframe tbody tr th {\n",
       "        vertical-align: top;\n",
       "    }\n",
       "\n",
       "    .dataframe thead th {\n",
       "        text-align: right;\n",
       "    }\n",
       "</style>\n",
       "<table border=\"1\" class=\"dataframe\">\n",
       "  <thead>\n",
       "    <tr style=\"text-align: right;\">\n",
       "      <th></th>\n",
       "      <th>X0</th>\n",
       "      <th>X1</th>\n",
       "      <th>X2</th>\n",
       "      <th>X3</th>\n",
       "      <th>X4</th>\n",
       "      <th>X5</th>\n",
       "      <th>X6</th>\n",
       "      <th>X7</th>\n",
       "      <th>X8</th>\n",
       "      <th>X9</th>\n",
       "      <th>...</th>\n",
       "      <th>X20</th>\n",
       "      <th>X21</th>\n",
       "      <th>X22</th>\n",
       "      <th>X23</th>\n",
       "      <th>X24</th>\n",
       "      <th>X25</th>\n",
       "      <th>X26</th>\n",
       "      <th>X27</th>\n",
       "      <th>X28</th>\n",
       "      <th>OUTLIER</th>\n",
       "    </tr>\n",
       "  </thead>\n",
       "  <tbody>\n",
       "    <tr>\n",
       "      <th>0</th>\n",
       "      <td>0.0</td>\n",
       "      <td>215.0</td>\n",
       "      <td>45076.0</td>\n",
       "      <td>0.0</td>\n",
       "      <td>1.0</td>\n",
       "      <td>0.0</td>\n",
       "      <td>0.0</td>\n",
       "      <td>0.0</td>\n",
       "      <td>0.0</td>\n",
       "      <td>0.0</td>\n",
       "      <td>...</td>\n",
       "      <td>0.0</td>\n",
       "      <td>0.0</td>\n",
       "      <td>0.0</td>\n",
       "      <td>0.00</td>\n",
       "      <td>0.0</td>\n",
       "      <td>0.0</td>\n",
       "      <td>0.0</td>\n",
       "      <td>0.0</td>\n",
       "      <td>0.0</td>\n",
       "      <td>n</td>\n",
       "    </tr>\n",
       "    <tr>\n",
       "      <th>1</th>\n",
       "      <td>0.0</td>\n",
       "      <td>162.0</td>\n",
       "      <td>4528.0</td>\n",
       "      <td>0.0</td>\n",
       "      <td>1.0</td>\n",
       "      <td>0.0</td>\n",
       "      <td>0.0</td>\n",
       "      <td>0.0</td>\n",
       "      <td>0.0</td>\n",
       "      <td>0.0</td>\n",
       "      <td>...</td>\n",
       "      <td>1.0</td>\n",
       "      <td>1.0</td>\n",
       "      <td>0.0</td>\n",
       "      <td>1.00</td>\n",
       "      <td>0.0</td>\n",
       "      <td>0.0</td>\n",
       "      <td>0.0</td>\n",
       "      <td>0.0</td>\n",
       "      <td>0.0</td>\n",
       "      <td>n</td>\n",
       "    </tr>\n",
       "    <tr>\n",
       "      <th>2</th>\n",
       "      <td>0.0</td>\n",
       "      <td>236.0</td>\n",
       "      <td>1228.0</td>\n",
       "      <td>0.0</td>\n",
       "      <td>1.0</td>\n",
       "      <td>0.0</td>\n",
       "      <td>0.0</td>\n",
       "      <td>0.0</td>\n",
       "      <td>0.0</td>\n",
       "      <td>0.0</td>\n",
       "      <td>...</td>\n",
       "      <td>2.0</td>\n",
       "      <td>1.0</td>\n",
       "      <td>0.0</td>\n",
       "      <td>0.50</td>\n",
       "      <td>0.0</td>\n",
       "      <td>0.0</td>\n",
       "      <td>0.0</td>\n",
       "      <td>0.0</td>\n",
       "      <td>0.0</td>\n",
       "      <td>n</td>\n",
       "    </tr>\n",
       "    <tr>\n",
       "      <th>3</th>\n",
       "      <td>0.0</td>\n",
       "      <td>233.0</td>\n",
       "      <td>2032.0</td>\n",
       "      <td>0.0</td>\n",
       "      <td>1.0</td>\n",
       "      <td>0.0</td>\n",
       "      <td>0.0</td>\n",
       "      <td>0.0</td>\n",
       "      <td>0.0</td>\n",
       "      <td>0.0</td>\n",
       "      <td>...</td>\n",
       "      <td>3.0</td>\n",
       "      <td>1.0</td>\n",
       "      <td>0.0</td>\n",
       "      <td>0.33</td>\n",
       "      <td>0.0</td>\n",
       "      <td>0.0</td>\n",
       "      <td>0.0</td>\n",
       "      <td>0.0</td>\n",
       "      <td>0.0</td>\n",
       "      <td>n</td>\n",
       "    </tr>\n",
       "    <tr>\n",
       "      <th>4</th>\n",
       "      <td>0.0</td>\n",
       "      <td>239.0</td>\n",
       "      <td>486.0</td>\n",
       "      <td>0.0</td>\n",
       "      <td>1.0</td>\n",
       "      <td>0.0</td>\n",
       "      <td>0.0</td>\n",
       "      <td>0.0</td>\n",
       "      <td>0.0</td>\n",
       "      <td>0.0</td>\n",
       "      <td>...</td>\n",
       "      <td>4.0</td>\n",
       "      <td>1.0</td>\n",
       "      <td>0.0</td>\n",
       "      <td>0.25</td>\n",
       "      <td>0.0</td>\n",
       "      <td>0.0</td>\n",
       "      <td>0.0</td>\n",
       "      <td>0.0</td>\n",
       "      <td>0.0</td>\n",
       "      <td>n</td>\n",
       "    </tr>\n",
       "  </tbody>\n",
       "</table>\n",
       "<p>5 rows × 30 columns</p>\n",
       "</div>"
      ],
      "text/plain": [
       "    X0     X1       X2   X3   X4   X5   X6   X7   X8   X9  ...  X20  X21  X22  \\\n",
       "0  0.0  215.0  45076.0  0.0  1.0  0.0  0.0  0.0  0.0  0.0  ...  0.0  0.0  0.0   \n",
       "1  0.0  162.0   4528.0  0.0  1.0  0.0  0.0  0.0  0.0  0.0  ...  1.0  1.0  0.0   \n",
       "2  0.0  236.0   1228.0  0.0  1.0  0.0  0.0  0.0  0.0  0.0  ...  2.0  1.0  0.0   \n",
       "3  0.0  233.0   2032.0  0.0  1.0  0.0  0.0  0.0  0.0  0.0  ...  3.0  1.0  0.0   \n",
       "4  0.0  239.0    486.0  0.0  1.0  0.0  0.0  0.0  0.0  0.0  ...  4.0  1.0  0.0   \n",
       "\n",
       "    X23  X24  X25  X26  X27  X28  OUTLIER  \n",
       "0  0.00  0.0  0.0  0.0  0.0  0.0        n  \n",
       "1  1.00  0.0  0.0  0.0  0.0  0.0        n  \n",
       "2  0.50  0.0  0.0  0.0  0.0  0.0        n  \n",
       "3  0.33  0.0  0.0  0.0  0.0  0.0        n  \n",
       "4  0.25  0.0  0.0  0.0  0.0  0.0        n  \n",
       "\n",
       "[5 rows x 30 columns]"
      ]
     },
     "execution_count": 10,
     "metadata": {},
     "output_type": "execute_result"
    }
   ],
   "source": [
    "df.head()"
   ]
  },
  {
   "cell_type": "markdown",
   "metadata": {
    "colab_type": "text",
    "id": "kwASUstNV5uV"
   },
   "source": [
    "# Outlier"
   ]
  },
  {
   "cell_type": "code",
   "execution_count": 11,
   "metadata": {
    "colab": {},
    "colab_type": "code",
    "id": "xomEfffoXbhO"
   },
   "outputs": [],
   "source": [
    "df['OUTLIER'] = np.where(df.OUTLIER == 'n', 0, 1)"
   ]
  },
  {
   "cell_type": "code",
   "execution_count": 12,
   "metadata": {
    "colab": {
     "base_uri": "https://localhost:8080/",
     "height": 224
    },
    "colab_type": "code",
    "id": "uDkR9aUYYNfJ",
    "outputId": "9d28c315-d48c-4303-9790-cbc479ec8f39"
   },
   "outputs": [
    {
     "data": {
      "text/html": [
       "<div>\n",
       "<style scoped>\n",
       "    .dataframe tbody tr th:only-of-type {\n",
       "        vertical-align: middle;\n",
       "    }\n",
       "\n",
       "    .dataframe tbody tr th {\n",
       "        vertical-align: top;\n",
       "    }\n",
       "\n",
       "    .dataframe thead th {\n",
       "        text-align: right;\n",
       "    }\n",
       "</style>\n",
       "<table border=\"1\" class=\"dataframe\">\n",
       "  <thead>\n",
       "    <tr style=\"text-align: right;\">\n",
       "      <th></th>\n",
       "      <th>X0</th>\n",
       "      <th>X1</th>\n",
       "      <th>X2</th>\n",
       "      <th>X3</th>\n",
       "      <th>X4</th>\n",
       "      <th>X5</th>\n",
       "      <th>X6</th>\n",
       "      <th>X7</th>\n",
       "      <th>X8</th>\n",
       "      <th>X9</th>\n",
       "      <th>...</th>\n",
       "      <th>X20</th>\n",
       "      <th>X21</th>\n",
       "      <th>X22</th>\n",
       "      <th>X23</th>\n",
       "      <th>X24</th>\n",
       "      <th>X25</th>\n",
       "      <th>X26</th>\n",
       "      <th>X27</th>\n",
       "      <th>X28</th>\n",
       "      <th>OUTLIER</th>\n",
       "    </tr>\n",
       "  </thead>\n",
       "  <tbody>\n",
       "    <tr>\n",
       "      <th>0</th>\n",
       "      <td>0.0</td>\n",
       "      <td>215.0</td>\n",
       "      <td>45076.0</td>\n",
       "      <td>0.0</td>\n",
       "      <td>1.0</td>\n",
       "      <td>0.0</td>\n",
       "      <td>0.0</td>\n",
       "      <td>0.0</td>\n",
       "      <td>0.0</td>\n",
       "      <td>0.0</td>\n",
       "      <td>...</td>\n",
       "      <td>0.0</td>\n",
       "      <td>0.0</td>\n",
       "      <td>0.0</td>\n",
       "      <td>0.00</td>\n",
       "      <td>0.0</td>\n",
       "      <td>0.0</td>\n",
       "      <td>0.0</td>\n",
       "      <td>0.0</td>\n",
       "      <td>0.0</td>\n",
       "      <td>0</td>\n",
       "    </tr>\n",
       "    <tr>\n",
       "      <th>1</th>\n",
       "      <td>0.0</td>\n",
       "      <td>162.0</td>\n",
       "      <td>4528.0</td>\n",
       "      <td>0.0</td>\n",
       "      <td>1.0</td>\n",
       "      <td>0.0</td>\n",
       "      <td>0.0</td>\n",
       "      <td>0.0</td>\n",
       "      <td>0.0</td>\n",
       "      <td>0.0</td>\n",
       "      <td>...</td>\n",
       "      <td>1.0</td>\n",
       "      <td>1.0</td>\n",
       "      <td>0.0</td>\n",
       "      <td>1.00</td>\n",
       "      <td>0.0</td>\n",
       "      <td>0.0</td>\n",
       "      <td>0.0</td>\n",
       "      <td>0.0</td>\n",
       "      <td>0.0</td>\n",
       "      <td>0</td>\n",
       "    </tr>\n",
       "    <tr>\n",
       "      <th>2</th>\n",
       "      <td>0.0</td>\n",
       "      <td>236.0</td>\n",
       "      <td>1228.0</td>\n",
       "      <td>0.0</td>\n",
       "      <td>1.0</td>\n",
       "      <td>0.0</td>\n",
       "      <td>0.0</td>\n",
       "      <td>0.0</td>\n",
       "      <td>0.0</td>\n",
       "      <td>0.0</td>\n",
       "      <td>...</td>\n",
       "      <td>2.0</td>\n",
       "      <td>1.0</td>\n",
       "      <td>0.0</td>\n",
       "      <td>0.50</td>\n",
       "      <td>0.0</td>\n",
       "      <td>0.0</td>\n",
       "      <td>0.0</td>\n",
       "      <td>0.0</td>\n",
       "      <td>0.0</td>\n",
       "      <td>0</td>\n",
       "    </tr>\n",
       "    <tr>\n",
       "      <th>3</th>\n",
       "      <td>0.0</td>\n",
       "      <td>233.0</td>\n",
       "      <td>2032.0</td>\n",
       "      <td>0.0</td>\n",
       "      <td>1.0</td>\n",
       "      <td>0.0</td>\n",
       "      <td>0.0</td>\n",
       "      <td>0.0</td>\n",
       "      <td>0.0</td>\n",
       "      <td>0.0</td>\n",
       "      <td>...</td>\n",
       "      <td>3.0</td>\n",
       "      <td>1.0</td>\n",
       "      <td>0.0</td>\n",
       "      <td>0.33</td>\n",
       "      <td>0.0</td>\n",
       "      <td>0.0</td>\n",
       "      <td>0.0</td>\n",
       "      <td>0.0</td>\n",
       "      <td>0.0</td>\n",
       "      <td>0</td>\n",
       "    </tr>\n",
       "    <tr>\n",
       "      <th>4</th>\n",
       "      <td>0.0</td>\n",
       "      <td>239.0</td>\n",
       "      <td>486.0</td>\n",
       "      <td>0.0</td>\n",
       "      <td>1.0</td>\n",
       "      <td>0.0</td>\n",
       "      <td>0.0</td>\n",
       "      <td>0.0</td>\n",
       "      <td>0.0</td>\n",
       "      <td>0.0</td>\n",
       "      <td>...</td>\n",
       "      <td>4.0</td>\n",
       "      <td>1.0</td>\n",
       "      <td>0.0</td>\n",
       "      <td>0.25</td>\n",
       "      <td>0.0</td>\n",
       "      <td>0.0</td>\n",
       "      <td>0.0</td>\n",
       "      <td>0.0</td>\n",
       "      <td>0.0</td>\n",
       "      <td>0</td>\n",
       "    </tr>\n",
       "  </tbody>\n",
       "</table>\n",
       "<p>5 rows × 30 columns</p>\n",
       "</div>"
      ],
      "text/plain": [
       "    X0     X1       X2   X3   X4   X5   X6   X7   X8   X9  ...  X20  X21  X22  \\\n",
       "0  0.0  215.0  45076.0  0.0  1.0  0.0  0.0  0.0  0.0  0.0  ...  0.0  0.0  0.0   \n",
       "1  0.0  162.0   4528.0  0.0  1.0  0.0  0.0  0.0  0.0  0.0  ...  1.0  1.0  0.0   \n",
       "2  0.0  236.0   1228.0  0.0  1.0  0.0  0.0  0.0  0.0  0.0  ...  2.0  1.0  0.0   \n",
       "3  0.0  233.0   2032.0  0.0  1.0  0.0  0.0  0.0  0.0  0.0  ...  3.0  1.0  0.0   \n",
       "4  0.0  239.0    486.0  0.0  1.0  0.0  0.0  0.0  0.0  0.0  ...  4.0  1.0  0.0   \n",
       "\n",
       "    X23  X24  X25  X26  X27  X28  OUTLIER  \n",
       "0  0.00  0.0  0.0  0.0  0.0  0.0        0  \n",
       "1  1.00  0.0  0.0  0.0  0.0  0.0        0  \n",
       "2  0.50  0.0  0.0  0.0  0.0  0.0        0  \n",
       "3  0.33  0.0  0.0  0.0  0.0  0.0        0  \n",
       "4  0.25  0.0  0.0  0.0  0.0  0.0        0  \n",
       "\n",
       "[5 rows x 30 columns]"
      ]
     },
     "execution_count": 12,
     "metadata": {},
     "output_type": "execute_result"
    }
   ],
   "source": [
    "df.head()"
   ]
  },
  {
   "cell_type": "markdown",
   "metadata": {
    "colab_type": "text",
    "id": "J6yDxHXuYPEN"
   },
   "source": [
    "# Save"
   ]
  },
  {
   "cell_type": "code",
   "execution_count": 13,
   "metadata": {
    "colab": {},
    "colab_type": "code",
    "id": "-hDu5vGswzHu"
   },
   "outputs": [],
   "source": [
    "!mkdir -p data"
   ]
  },
  {
   "cell_type": "code",
   "execution_count": 14,
   "metadata": {
    "colab": {},
    "colab_type": "code",
    "id": "11Ey7kmSXurK"
   },
   "outputs": [],
   "source": [
    "df.to_csv('data/data_anomaly_kdd.csv', index=False)"
   ]
  },
  {
   "cell_type": "code",
   "execution_count": 16,
   "metadata": {
    "colab": {
     "base_uri": "https://localhost:8080/",
     "height": 85
    },
    "colab_type": "code",
    "id": "3m6grK1OYT4A",
    "outputId": "65f4f987-6455-48de-d439-8be2a134bf26"
   },
   "outputs": [
    {
     "name": "stdout",
     "output_type": "stream",
     "text": [
      "total 155440\r\n",
      "drwxr-xr-x   4 stevew  staff       136 Jul  3 06:44 \u001b[34m.\u001b[m\u001b[m\r\n",
      "drwxr-xr-x  13 stevew  staff       442 Jul  3 06:43 \u001b[34m..\u001b[m\u001b[m\r\n",
      "-rw-r--r--   1 stevew  staff     16628 Jul  3 06:34 data_anomaly_ecoli.csv\r\n",
      "-rw-r--r--   1 stevew  staff  79561095 Jul  3 06:44 data_anomaly_kdd.csv\r\n"
     ]
    }
   ],
   "source": [
    "!ls -al data"
   ]
  },
  {
   "cell_type": "code",
   "execution_count": null,
   "metadata": {
    "colab": {},
    "colab_type": "code",
    "id": "U8DSQgiAxJut"
   },
   "outputs": [],
   "source": []
  }
 ],
 "metadata": {
  "colab": {
   "authorship_tag": "ABX9TyNsSOfcOm7VMqZF1CjxQHK1",
   "collapsed_sections": [],
   "include_colab_link": true,
   "name": "DatasetKDD99.ipynb",
   "provenance": []
  },
  "kernelspec": {
   "display_name": "Python 3",
   "language": "python",
   "name": "python3"
  },
  "language_info": {
   "codemirror_mode": {
    "name": "ipython",
    "version": 3
   },
   "file_extension": ".py",
   "mimetype": "text/x-python",
   "name": "python",
   "nbconvert_exporter": "python",
   "pygments_lexer": "ipython3",
   "version": "3.7.6"
  }
 },
 "nbformat": 4,
 "nbformat_minor": 1
}
