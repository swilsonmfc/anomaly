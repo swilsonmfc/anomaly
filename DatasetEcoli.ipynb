{
 "cells": [
  {
   "cell_type": "markdown",
   "metadata": {
    "colab_type": "text",
    "id": "view-in-github"
   },
   "source": [
    "<a href=\"https://colab.research.google.com/github/swilsonmfc/anomaly/blob/master/DatasetEcoli.ipynb\" target=\"_parent\"><img src=\"https://colab.research.google.com/assets/colab-badge.svg\" alt=\"Open In Colab\"/></a>"
   ]
  },
  {
   "cell_type": "markdown",
   "metadata": {
    "colab_type": "text",
    "id": "AYH03gxay5HX"
   },
   "source": [
    "# Ecoli\n",
    "![alt text](https://commtechlab.msu.edu/sites/dlc-me/zoo/Pf07002.jpg)"
   ]
  },
  {
   "cell_type": "markdown",
   "metadata": {
    "colab_type": "text",
    "id": "jwf4mztMufiZ"
   },
   "source": [
    "# Setup"
   ]
  },
  {
   "cell_type": "code",
   "execution_count": 10,
   "metadata": {
    "colab": {},
    "colab_type": "code",
    "id": "5LSu-XAIuhy0"
   },
   "outputs": [],
   "source": [
    "import pandas as pd\n",
    "import numpy as np"
   ]
  },
  {
   "cell_type": "markdown",
   "metadata": {
    "colab_type": "text",
    "id": "MSe0tvCLulhi"
   },
   "source": [
    "# Data"
   ]
  },
  {
   "cell_type": "code",
   "execution_count": 15,
   "metadata": {
    "colab": {
     "base_uri": "https://localhost:8080/",
     "height": 391
    },
    "colab_type": "code",
    "id": "tEmTFLKHuo-h",
    "outputId": "9e88bba4-b283-4338-95d5-1ccbecea9a16"
   },
   "outputs": [
    {
     "name": "stdout",
     "output_type": "stream",
     "text": [
      "1. Title: Protein Localization Sites\r\n",
      "\r\n",
      "\r\n",
      "2. Creator and Maintainer:\r\n",
      "\t     Kenta Nakai\r\n",
      "             Institue of Molecular and Cellular Biology\r\n",
      "\t     Osaka, University\r\n",
      "\t     1-3 Yamada-oka, Suita 565 Japan\r\n",
      "\t     nakai@imcb.osaka-u.ac.jp\r\n",
      "             http://www.imcb.osaka-u.ac.jp/nakai/psort.html\r\n",
      "   Donor: Paul Horton (paulh@cs.berkeley.edu)\r\n",
      "   Date:  September, 1996\r\n",
      "   See also: yeast database\r\n",
      "\r\n",
      "3. Past Usage.\r\n",
      "Reference: \"A Probablistic Classification System for Predicting the Cellular \r\n",
      "           Localization Sites of Proteins\", Paul Horton & Kenta Nakai,\r\n",
      "           Intelligent Systems in Molecular Biology, 109-115.\r\n",
      "\t   St. Louis, USA 1996.\r\n",
      "Results: 81% for E.coli with an ad hoc structured\r\n",
      "\t probability model. Also similar accuracy for Binary Decision Tree and\r\n",
      "\t Bayesian Classifier methods applied by the same authors in\r\n",
      "\t unpublished results.\r\n",
      "\r\n",
      "Predicted Attribute: Localization site of protein. ( non-numeric ).\r\n",
      "\r\n",
      "\r\n",
      "4. The references below describe a predecessor to this dataset and its \r\n",
      "development. They also give results (not cross-validated) for classification \r\n",
      "by a rule-based expert system with that version of the dataset.\r\n",
      "\r\n",
      "Reference: \"Expert Sytem for Predicting Protein Localization Sites in \r\n",
      "           Gram-Negative Bacteria\", Kenta Nakai & Minoru Kanehisa,  \r\n",
      "           PROTEINS: Structure, Function, and Genetics 11:95-110, 1991.\r\n",
      "\r\n",
      "Reference: \"A Knowledge Base for Predicting Protein Localization Sites in\r\n",
      "\t   Eukaryotic Cells\", Kenta Nakai & Minoru Kanehisa, \r\n",
      "\t   Genomics 14:897-911, 1992.\r\n",
      "\r\n",
      "\r\n",
      "5. Number of Instances:  336 for the E.coli dataset and \r\n",
      "\r\n",
      "\r\n",
      "6. Number of Attributes.\r\n",
      "         for E.coli dataset:  8 ( 7 predictive, 1 name )\r\n",
      "\r\n",
      "\t     \r\n",
      "7. Attribute Information.\r\n",
      "\r\n",
      "  1.  Sequence Name: Accession number for the SWISS-PROT database\r\n",
      "  2.  mcg: McGeoch's method for signal sequence recognition.\r\n",
      "  3.  gvh: von Heijne's method for signal sequence recognition.\r\n",
      "  4.  lip: von Heijne's Signal Peptidase II consensus sequence score.\r\n",
      "           Binary attribute.\r\n",
      "  5.  chg: Presence of charge on N-terminus of predicted lipoproteins.\r\n",
      "\t   Binary attribute.\r\n",
      "  6.  aac: score of discriminant analysis of the amino acid content of\r\n",
      "\t   outer membrane and periplasmic proteins.\r\n",
      "  7. alm1: score of the ALOM membrane spanning region prediction program.\r\n",
      "  8. alm2: score of ALOM program after excluding putative cleavable signal\r\n",
      "\t   regions from the sequence.\r\n",
      "\r\n",
      "\r\n",
      "\r\n",
      "8. Missing Attribute Values: None.\r\n",
      "\r\n",
      "\r\n",
      "9. Class Distribution. The class is the localization site. Please see Nakai &\r\n",
      "\t\t       Kanehisa referenced above for more details.\r\n",
      "\r\n",
      "  cp  (cytoplasm)                                    143\r\n",
      "  im  (inner membrane without signal sequence)        77               \r\n",
      "  pp  (perisplasm)                                    52\r\n",
      "  imU (inner membrane, uncleavable signal sequence)   35\r\n",
      "  om  (outer membrane)                                20\r\n",
      "  omL (outer membrane lipoprotein)                     5\r\n",
      "  imL (inner membrane lipoprotein)                     2\r\n",
      "  imS (inner membrane, cleavable signal sequence)      2\r\n",
      "\r\n",
      "\r\n",
      "\r\n",
      "\r\n",
      "\r\n",
      "  \r\n",
      "\r\n",
      "\r\n",
      "\r\n",
      "\r\n"
     ]
    }
   ],
   "source": [
    "!wget https://archive.ics.uci.edu/ml/machine-learning-databases/ecoli/ecoli.names\n",
    "    "
   ]
  },
  {
   "cell_type": "code",
   "execution_count": 16,
   "metadata": {
    "colab": {},
    "colab_type": "code",
    "id": "2E6bVWO9w6V9"
   },
   "outputs": [],
   "source": [
    "headers = ['SEQUENCE', 'MCG', 'GVH', 'LIP', 'CHG', 'AAC', 'ALM1', 'ALM2', 'CLASS']"
   ]
  },
  {
   "cell_type": "code",
   "execution_count": 17,
   "metadata": {
    "colab": {},
    "colab_type": "code",
    "id": "9pSNNYBBv2D4"
   },
   "outputs": [],
   "source": [
    "df = pd.read_fwf('https://archive.ics.uci.edu/ml/machine-learning-databases/ecoli/ecoli.data', names=headers)"
   ]
  },
  {
   "cell_type": "code",
   "execution_count": 18,
   "metadata": {
    "colab": {},
    "colab_type": "code",
    "id": "2KWfO0iyxUYf"
   },
   "outputs": [],
   "source": [
    "outliers = ['omL', 'imL', 'imS']\n",
    "df['OUTLIER'] = np.where(df.CLASS.isin(outliers), 1, 0)"
   ]
  },
  {
   "cell_type": "markdown",
   "metadata": {
    "colab_type": "text",
    "id": "UKLwZu5QwOJp"
   },
   "source": [
    "# Save"
   ]
  },
  {
   "cell_type": "code",
   "execution_count": 19,
   "metadata": {
    "colab": {},
    "colab_type": "code",
    "id": "qhMOSGJUwQL6"
   },
   "outputs": [],
   "source": [
    "!mkdir -p data"
   ]
  },
  {
   "cell_type": "code",
   "execution_count": 20,
   "metadata": {
    "colab": {},
    "colab_type": "code",
    "id": "KcHCnSk-yQ98"
   },
   "outputs": [],
   "source": [
    "df.to_csv('data/data_anomaly_ecoli.csv', index=False)"
   ]
  },
  {
   "cell_type": "code",
   "execution_count": 21,
   "metadata": {
    "colab": {
     "base_uri": "https://localhost:8080/",
     "height": 34
    },
    "colab_type": "code",
    "id": "VwBKDesezQVC",
    "outputId": "7d9097dc-8f2f-4d20-aad5-a627a12cd282"
   },
   "outputs": [
    {
     "name": "stdout",
     "output_type": "stream",
     "text": [
      "data_anomaly_ecoli.csv\r\n"
     ]
    }
   ],
   "source": [
    "!ls data"
   ]
  },
  {
   "cell_type": "code",
   "execution_count": null,
   "metadata": {
    "colab": {},
    "colab_type": "code",
    "id": "jXaEBTMZwglo"
   },
   "outputs": [],
   "source": []
  }
 ],
 "metadata": {
  "colab": {
   "authorship_tag": "ABX9TyP2qqkPS8Sn1xvkcZYxRZgH",
   "include_colab_link": true,
   "name": "DatasetEcoli.ipynb",
   "provenance": []
  },
  "kernelspec": {
   "display_name": "Python 3",
   "language": "python",
   "name": "python3"
  },
  "language_info": {
   "codemirror_mode": {
    "name": "ipython",
    "version": 3
   },
   "file_extension": ".py",
   "mimetype": "text/x-python",
   "name": "python",
   "nbconvert_exporter": "python",
   "pygments_lexer": "ipython3",
   "version": "3.7.6"
  }
 },
 "nbformat": 4,
 "nbformat_minor": 1
}
