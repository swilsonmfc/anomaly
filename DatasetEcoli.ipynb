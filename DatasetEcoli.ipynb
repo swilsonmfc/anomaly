{
  "nbformat": 4,
  "nbformat_minor": 0,
  "metadata": {
    "colab": {
      "name": "DatasetEcoli.ipynb",
      "provenance": [],
      "authorship_tag": "ABX9TyP2qqkPS8Sn1xvkcZYxRZgH",
      "include_colab_link": true
    },
    "kernelspec": {
      "name": "python3",
      "display_name": "Python 3"
    }
  },
  "cells": [
    {
      "cell_type": "markdown",
      "metadata": {
        "id": "view-in-github",
        "colab_type": "text"
      },
      "source": [
        "<a href=\"https://colab.research.google.com/github/swilsonmfc/anomaly/blob/master/DatasetEcoli.ipynb\" target=\"_parent\"><img src=\"https://colab.research.google.com/assets/colab-badge.svg\" alt=\"Open In Colab\"/></a>"
      ]
    },
    {
      "cell_type": "markdown",
      "metadata": {
        "id": "AYH03gxay5HX",
        "colab_type": "text"
      },
      "source": [
        "# Ecoli\n",
        "![alt text](https://commtechlab.msu.edu/sites/dlc-me/zoo/Pf07002.jpg)"
      ]
    },
    {
      "cell_type": "markdown",
      "metadata": {
        "id": "jwf4mztMufiZ",
        "colab_type": "text"
      },
      "source": [
        "# Setup"
      ]
    },
    {
      "cell_type": "code",
      "metadata": {
        "id": "5LSu-XAIuhy0",
        "colab_type": "code",
        "colab": {}
      },
      "source": [
        "import pandas as pd\n",
        "import numpy as np"
      ],
      "execution_count": 1,
      "outputs": []
    },
    {
      "cell_type": "markdown",
      "metadata": {
        "id": "MSe0tvCLulhi",
        "colab_type": "text"
      },
      "source": [
        "# Data"
      ]
    },
    {
      "cell_type": "code",
      "metadata": {
        "id": "tEmTFLKHuo-h",
        "colab_type": "code",
        "colab": {
          "base_uri": "https://localhost:8080/",
          "height": 391
        },
        "outputId": "9e88bba4-b283-4338-95d5-1ccbecea9a16"
      },
      "source": [
        "!wget https://archive.ics.uci.edu/ml/machine-learning-databases/ecoli/ecoli.names\n",
        "!wget https://archive.ics.uci.edu/ml/machine-learning-databases/ecoli/ecoli.data"
      ],
      "execution_count": 2,
      "outputs": [
        {
          "output_type": "stream",
          "text": [
            "--2020-07-03 12:58:07--  https://archive.ics.uci.edu/ml/machine-learning-databases/ecoli/ecoli.names\n",
            "Resolving archive.ics.uci.edu (archive.ics.uci.edu)... 128.195.10.252\n",
            "Connecting to archive.ics.uci.edu (archive.ics.uci.edu)|128.195.10.252|:443... connected.\n",
            "HTTP request sent, awaiting response... 200 OK\n",
            "Length: 3022 (3.0K) [application/x-httpd-php]\n",
            "Saving to: ‘ecoli.names’\n",
            "\n",
            "ecoli.names         100%[===================>]   2.95K  --.-KB/s    in 0s      \n",
            "\n",
            "2020-07-03 12:58:07 (72.6 MB/s) - ‘ecoli.names’ saved [3022/3022]\n",
            "\n",
            "--2020-07-03 12:58:08--  https://archive.ics.uci.edu/ml/machine-learning-databases/ecoli/ecoli.data\n",
            "Resolving archive.ics.uci.edu (archive.ics.uci.edu)... 128.195.10.252\n",
            "Connecting to archive.ics.uci.edu (archive.ics.uci.edu)|128.195.10.252|:443... connected.\n",
            "HTTP request sent, awaiting response... 200 OK\n",
            "Length: 19488 (19K) [application/x-httpd-php]\n",
            "Saving to: ‘ecoli.data’\n",
            "\n",
            "ecoli.data          100%[===================>]  19.03K  --.-KB/s    in 0.1s    \n",
            "\n",
            "2020-07-03 12:58:09 (131 KB/s) - ‘ecoli.data’ saved [19488/19488]\n",
            "\n"
          ],
          "name": "stdout"
        }
      ]
    },
    {
      "cell_type": "code",
      "metadata": {
        "id": "D_yrtbHFwnGI",
        "colab_type": "code",
        "colab": {
          "base_uri": "https://localhost:8080/",
          "height": 1000
        },
        "outputId": "949acd29-84a9-405f-e18c-f3c7d50be1fe"
      },
      "source": [
        "!cat ecoli.names"
      ],
      "execution_count": 3,
      "outputs": [
        {
          "output_type": "stream",
          "text": [
            "1. Title: Protein Localization Sites\n",
            "\n",
            "\n",
            "2. Creator and Maintainer:\n",
            "\t     Kenta Nakai\n",
            "             Institue of Molecular and Cellular Biology\n",
            "\t     Osaka, University\n",
            "\t     1-3 Yamada-oka, Suita 565 Japan\n",
            "\t     nakai@imcb.osaka-u.ac.jp\n",
            "             http://www.imcb.osaka-u.ac.jp/nakai/psort.html\n",
            "   Donor: Paul Horton (paulh@cs.berkeley.edu)\n",
            "   Date:  September, 1996\n",
            "   See also: yeast database\n",
            "\n",
            "3. Past Usage.\n",
            "Reference: \"A Probablistic Classification System for Predicting the Cellular \n",
            "           Localization Sites of Proteins\", Paul Horton & Kenta Nakai,\n",
            "           Intelligent Systems in Molecular Biology, 109-115.\n",
            "\t   St. Louis, USA 1996.\n",
            "Results: 81% for E.coli with an ad hoc structured\n",
            "\t probability model. Also similar accuracy for Binary Decision Tree and\n",
            "\t Bayesian Classifier methods applied by the same authors in\n",
            "\t unpublished results.\n",
            "\n",
            "Predicted Attribute: Localization site of protein. ( non-numeric ).\n",
            "\n",
            "\n",
            "4. The references below describe a predecessor to this dataset and its \n",
            "development. They also give results (not cross-validated) for classification \n",
            "by a rule-based expert system with that version of the dataset.\n",
            "\n",
            "Reference: \"Expert Sytem for Predicting Protein Localization Sites in \n",
            "           Gram-Negative Bacteria\", Kenta Nakai & Minoru Kanehisa,  \n",
            "           PROTEINS: Structure, Function, and Genetics 11:95-110, 1991.\n",
            "\n",
            "Reference: \"A Knowledge Base for Predicting Protein Localization Sites in\n",
            "\t   Eukaryotic Cells\", Kenta Nakai & Minoru Kanehisa, \n",
            "\t   Genomics 14:897-911, 1992.\n",
            "\n",
            "\n",
            "5. Number of Instances:  336 for the E.coli dataset and \n",
            "\n",
            "\n",
            "6. Number of Attributes.\n",
            "         for E.coli dataset:  8 ( 7 predictive, 1 name )\n",
            "\n",
            "\t     \n",
            "7. Attribute Information.\n",
            "\n",
            "  1.  Sequence Name: Accession number for the SWISS-PROT database\n",
            "  2.  mcg: McGeoch's method for signal sequence recognition.\n",
            "  3.  gvh: von Heijne's method for signal sequence recognition.\n",
            "  4.  lip: von Heijne's Signal Peptidase II consensus sequence score.\n",
            "           Binary attribute.\n",
            "  5.  chg: Presence of charge on N-terminus of predicted lipoproteins.\n",
            "\t   Binary attribute.\n",
            "  6.  aac: score of discriminant analysis of the amino acid content of\n",
            "\t   outer membrane and periplasmic proteins.\n",
            "  7. alm1: score of the ALOM membrane spanning region prediction program.\n",
            "  8. alm2: score of ALOM program after excluding putative cleavable signal\n",
            "\t   regions from the sequence.\n",
            "\n",
            "\n",
            "\n",
            "8. Missing Attribute Values: None.\n",
            "\n",
            "\n",
            "9. Class Distribution. The class is the localization site. Please see Nakai &\n",
            "\t\t       Kanehisa referenced above for more details.\n",
            "\n",
            "  cp  (cytoplasm)                                    143\n",
            "  im  (inner membrane without signal sequence)        77               \n",
            "  pp  (perisplasm)                                    52\n",
            "  imU (inner membrane, uncleavable signal sequence)   35\n",
            "  om  (outer membrane)                                20\n",
            "  omL (outer membrane lipoprotein)                     5\n",
            "  imL (inner membrane lipoprotein)                     2\n",
            "  imS (inner membrane, cleavable signal sequence)      2\n",
            "\n",
            "\n",
            "\n",
            "\n",
            "\n",
            "  \n",
            "\n",
            "\n",
            "\n",
            "\n"
          ],
          "name": "stdout"
        }
      ]
    },
    {
      "cell_type": "code",
      "metadata": {
        "id": "2E6bVWO9w6V9",
        "colab_type": "code",
        "colab": {}
      },
      "source": [
        "headers = ['SEQUENCE', 'MCG', 'GVH', 'LIP', 'CHG', 'AAC', 'ALM1', 'ALM2', 'CLASS']"
      ],
      "execution_count": 4,
      "outputs": []
    },
    {
      "cell_type": "code",
      "metadata": {
        "id": "9pSNNYBBv2D4",
        "colab_type": "code",
        "colab": {}
      },
      "source": [
        "df = pd.read_fwf('https://archive.ics.uci.edu/ml/machine-learning-databases/ecoli/ecoli.data', names=headers)"
      ],
      "execution_count": 5,
      "outputs": []
    },
    {
      "cell_type": "code",
      "metadata": {
        "id": "2KWfO0iyxUYf",
        "colab_type": "code",
        "colab": {}
      },
      "source": [
        "outliers = ['omL', 'imL', 'imS']\n",
        "df['OUTLIER'] = np.where(df.CLASS.isin(outliers), 1, 0)"
      ],
      "execution_count": 6,
      "outputs": []
    },
    {
      "cell_type": "markdown",
      "metadata": {
        "id": "UKLwZu5QwOJp",
        "colab_type": "text"
      },
      "source": [
        "# Save"
      ]
    },
    {
      "cell_type": "code",
      "metadata": {
        "id": "qhMOSGJUwQL6",
        "colab_type": "code",
        "colab": {}
      },
      "source": [
        "!mkdir -p data"
      ],
      "execution_count": 7,
      "outputs": []
    },
    {
      "cell_type": "code",
      "metadata": {
        "id": "KcHCnSk-yQ98",
        "colab_type": "code",
        "colab": {}
      },
      "source": [
        "df.to_csv('data/data_anomaly_ecoli.csv', index=False)"
      ],
      "execution_count": 8,
      "outputs": []
    },
    {
      "cell_type": "code",
      "metadata": {
        "id": "VwBKDesezQVC",
        "colab_type": "code",
        "colab": {
          "base_uri": "https://localhost:8080/",
          "height": 34
        },
        "outputId": "7d9097dc-8f2f-4d20-aad5-a627a12cd282"
      },
      "source": [
        "!ls data"
      ],
      "execution_count": 10,
      "outputs": [
        {
          "output_type": "stream",
          "text": [
            "data_anomaly_ecoli.csv\n"
          ],
          "name": "stdout"
        }
      ]
    },
    {
      "cell_type": "code",
      "metadata": {
        "id": "jXaEBTMZwglo",
        "colab_type": "code",
        "colab": {}
      },
      "source": [
        ""
      ],
      "execution_count": null,
      "outputs": []
    }
  ]
}