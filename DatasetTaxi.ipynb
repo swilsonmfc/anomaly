{
  "nbformat": 4,
  "nbformat_minor": 0,
  "metadata": {
    "colab": {
      "name": "DatasetTaxi.ipynb",
      "provenance": [],
      "collapsed_sections": [],
      "authorship_tag": "ABX9TyN+lmXlR++mrFYJFgiLTJzG",
      "include_colab_link": true
    },
    "kernelspec": {
      "name": "python3",
      "display_name": "Python 3"
    }
  },
  "cells": [
    {
      "cell_type": "markdown",
      "metadata": {
        "id": "view-in-github",
        "colab_type": "text"
      },
      "source": [
        "<a href=\"https://colab.research.google.com/github/swilsonmfc/anomaly/blob/master/DatasetTaxi.ipynb\" target=\"_parent\"><img src=\"https://colab.research.google.com/assets/colab-badge.svg\" alt=\"Open In Colab\"/></a>"
      ]
    },
    {
      "cell_type": "markdown",
      "metadata": {
        "id": "F9xJwgrz-dd5",
        "colab_type": "text"
      },
      "source": [
        "# Taxi\n",
        "![alt text](https://www.amny.com/wp-content/uploads/2019/06/Taxicabsxx_cvvvof_NYC-1024x588.jpg)"
      ]
    },
    {
      "cell_type": "markdown",
      "metadata": {
        "id": "1KnnAR32EvhB",
        "colab_type": "text"
      },
      "source": [
        "# Notes\n",
        "nyc_taxi.csv: Number of NYC taxi passengers, where the five anomalies occur during the NYC marathon, Thanksgiving, Christmas, New Years day, and a snow storm. The raw data is from the NYC Taxi and Limousine Commission. The data file included here consists of aggregating the total number of taxi passengers into 30 minute buckets.\n"
      ]
    },
    {
      "cell_type": "markdown",
      "metadata": {
        "id": "zez29lf2Dj8Y",
        "colab_type": "text"
      },
      "source": [
        "# Setup"
      ]
    },
    {
      "cell_type": "code",
      "metadata": {
        "id": "hGpv7jqsDmhs",
        "colab_type": "code",
        "colab": {}
      },
      "source": [
        "import pandas as pd\n",
        "import numpy as np"
      ],
      "execution_count": 6,
      "outputs": []
    },
    {
      "cell_type": "markdown",
      "metadata": {
        "id": "lA9ZigwvDozQ",
        "colab_type": "text"
      },
      "source": [
        "# Data"
      ]
    },
    {
      "cell_type": "code",
      "metadata": {
        "id": "3zyjL9xcDtbc",
        "colab_type": "code",
        "colab": {}
      },
      "source": [
        "df = pd.read_csv('https://github.com/numenta/NAB/raw/master/data/realKnownCause/nyc_taxi.csv')\n",
        "df.columns = ['TIMESTAMP', 'VALUE']"
      ],
      "execution_count": 7,
      "outputs": []
    },
    {
      "cell_type": "code",
      "metadata": {
        "id": "0Ov2eDvuD1bA",
        "colab_type": "code",
        "colab": {
          "base_uri": "https://localhost:8080/",
          "height": 204
        },
        "outputId": "721c6cf7-cc5f-48ae-ceae-411620e84307"
      },
      "source": [
        "df.head()"
      ],
      "execution_count": 8,
      "outputs": [
        {
          "output_type": "execute_result",
          "data": {
            "text/html": [
              "<div>\n",
              "<style scoped>\n",
              "    .dataframe tbody tr th:only-of-type {\n",
              "        vertical-align: middle;\n",
              "    }\n",
              "\n",
              "    .dataframe tbody tr th {\n",
              "        vertical-align: top;\n",
              "    }\n",
              "\n",
              "    .dataframe thead th {\n",
              "        text-align: right;\n",
              "    }\n",
              "</style>\n",
              "<table border=\"1\" class=\"dataframe\">\n",
              "  <thead>\n",
              "    <tr style=\"text-align: right;\">\n",
              "      <th></th>\n",
              "      <th>TIMESTAMP</th>\n",
              "      <th>VALUE</th>\n",
              "    </tr>\n",
              "  </thead>\n",
              "  <tbody>\n",
              "    <tr>\n",
              "      <th>0</th>\n",
              "      <td>2014-07-01 00:00:00</td>\n",
              "      <td>10844</td>\n",
              "    </tr>\n",
              "    <tr>\n",
              "      <th>1</th>\n",
              "      <td>2014-07-01 00:30:00</td>\n",
              "      <td>8127</td>\n",
              "    </tr>\n",
              "    <tr>\n",
              "      <th>2</th>\n",
              "      <td>2014-07-01 01:00:00</td>\n",
              "      <td>6210</td>\n",
              "    </tr>\n",
              "    <tr>\n",
              "      <th>3</th>\n",
              "      <td>2014-07-01 01:30:00</td>\n",
              "      <td>4656</td>\n",
              "    </tr>\n",
              "    <tr>\n",
              "      <th>4</th>\n",
              "      <td>2014-07-01 02:00:00</td>\n",
              "      <td>3820</td>\n",
              "    </tr>\n",
              "  </tbody>\n",
              "</table>\n",
              "</div>"
            ],
            "text/plain": [
              "             TIMESTAMP  VALUE\n",
              "0  2014-07-01 00:00:00  10844\n",
              "1  2014-07-01 00:30:00   8127\n",
              "2  2014-07-01 01:00:00   6210\n",
              "3  2014-07-01 01:30:00   4656\n",
              "4  2014-07-01 02:00:00   3820"
            ]
          },
          "metadata": {
            "tags": []
          },
          "execution_count": 8
        }
      ]
    },
    {
      "cell_type": "code",
      "metadata": {
        "id": "UQuvMtZmD2pY",
        "colab_type": "code",
        "colab": {}
      },
      "source": [
        "df['TIMESTAMP'] = pd.to_datetime(df.TIMESTAMP)\n",
        "df = df.set_index('TIMESTAMP')"
      ],
      "execution_count": 9,
      "outputs": []
    },
    {
      "cell_type": "code",
      "metadata": {
        "id": "hE-FtGvcD8zT",
        "colab_type": "code",
        "colab": {
          "base_uri": "https://localhost:8080/",
          "height": 235
        },
        "outputId": "166df42c-06ce-4784-d7fe-dbaab6a99d18"
      },
      "source": [
        "df.head()"
      ],
      "execution_count": 10,
      "outputs": [
        {
          "output_type": "execute_result",
          "data": {
            "text/html": [
              "<div>\n",
              "<style scoped>\n",
              "    .dataframe tbody tr th:only-of-type {\n",
              "        vertical-align: middle;\n",
              "    }\n",
              "\n",
              "    .dataframe tbody tr th {\n",
              "        vertical-align: top;\n",
              "    }\n",
              "\n",
              "    .dataframe thead th {\n",
              "        text-align: right;\n",
              "    }\n",
              "</style>\n",
              "<table border=\"1\" class=\"dataframe\">\n",
              "  <thead>\n",
              "    <tr style=\"text-align: right;\">\n",
              "      <th></th>\n",
              "      <th>VALUE</th>\n",
              "    </tr>\n",
              "    <tr>\n",
              "      <th>TIMESTAMP</th>\n",
              "      <th></th>\n",
              "    </tr>\n",
              "  </thead>\n",
              "  <tbody>\n",
              "    <tr>\n",
              "      <th>2014-07-01 00:00:00</th>\n",
              "      <td>10844</td>\n",
              "    </tr>\n",
              "    <tr>\n",
              "      <th>2014-07-01 00:30:00</th>\n",
              "      <td>8127</td>\n",
              "    </tr>\n",
              "    <tr>\n",
              "      <th>2014-07-01 01:00:00</th>\n",
              "      <td>6210</td>\n",
              "    </tr>\n",
              "    <tr>\n",
              "      <th>2014-07-01 01:30:00</th>\n",
              "      <td>4656</td>\n",
              "    </tr>\n",
              "    <tr>\n",
              "      <th>2014-07-01 02:00:00</th>\n",
              "      <td>3820</td>\n",
              "    </tr>\n",
              "  </tbody>\n",
              "</table>\n",
              "</div>"
            ],
            "text/plain": [
              "                     VALUE\n",
              "TIMESTAMP                 \n",
              "2014-07-01 00:00:00  10844\n",
              "2014-07-01 00:30:00   8127\n",
              "2014-07-01 01:00:00   6210\n",
              "2014-07-01 01:30:00   4656\n",
              "2014-07-01 02:00:00   3820"
            ]
          },
          "metadata": {
            "tags": []
          },
          "execution_count": 10
        }
      ]
    },
    {
      "cell_type": "markdown",
      "metadata": {
        "id": "uCaYJp6yD9p-",
        "colab_type": "text"
      },
      "source": [
        "# EDA"
      ]
    },
    {
      "cell_type": "code",
      "metadata": {
        "id": "F5qLRJzeFJvL",
        "colab_type": "code",
        "colab": {
          "base_uri": "https://localhost:8080/",
          "height": 308
        },
        "outputId": "207d7be2-6e96-477c-9ac9-cd5f04c8b062"
      },
      "source": [
        "df.plot(figsize=(10,4))"
      ],
      "execution_count": 11,
      "outputs": [
        {
          "output_type": "execute_result",
          "data": {
            "text/plain": [
              "<matplotlib.axes._subplots.AxesSubplot at 0x7faab41570b8>"
            ]
          },
          "metadata": {
            "tags": []
          },
          "execution_count": 11
        },
        {
          "output_type": "display_data",
          "data": {
            "image/png": "[encoded data removed]",
            "text/plain": [
              "<Figure size 720x288 with 1 Axes>"
            ]
          },
          "metadata": {
            "tags": [],
            "needs_background": "light"
          }
        }
      ]
    },
    {
      "cell_type": "markdown",
      "metadata": {
        "id": "0Bre7PSWFL10",
        "colab_type": "text"
      },
      "source": [
        "# Labels"
      ]
    },
    {
      "cell_type": "code",
      "metadata": {
        "id": "FkJq_BlTGMjJ",
        "colab_type": "code",
        "colab": {}
      },
      "source": [
        "labels = [\"2014-11-01 19:00:00.000000\",\n",
        "          \"2014-11-27 15:30:00.000000\",\n",
        "          \"2014-12-25 15:00:00.000000\",\n",
        "          \"2015-01-01 01:00:00.000000\",\n",
        "          \"2015-01-27 00:00:00.000000\"]"
      ],
      "execution_count": 12,
      "outputs": []
    },
    {
      "cell_type": "code",
      "metadata": {
        "id": "-7nr9e5dGRXE",
        "colab_type": "code",
        "colab": {}
      },
      "source": [
        "df['OUTLIER'] = np.where(df.index.isin(labels), 1, 0)"
      ],
      "execution_count": 13,
      "outputs": []
    },
    {
      "cell_type": "markdown",
      "metadata": {
        "id": "LdxFg4ddSeo9",
        "colab_type": "text"
      },
      "source": [
        "# Save"
      ]
    },
    {
      "cell_type": "code",
      "metadata": {
        "id": "Sytxi2Cft-Y2",
        "colab_type": "code",
        "colab": {}
      },
      "source": [
        "!mkdir -p data"
      ],
      "execution_count": 14,
      "outputs": []
    },
    {
      "cell_type": "code",
      "metadata": {
        "id": "zMgfkIsISgKh",
        "colab_type": "code",
        "colab": {}
      },
      "source": [
        "df.to_csv('data/data_anomaly_taxi.csv', index=False)"
      ],
      "execution_count": 15,
      "outputs": []
    }
  ]
}